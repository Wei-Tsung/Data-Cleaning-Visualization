{
 "cells": [
  {
   "cell_type": "code",
   "execution_count": 65,
   "metadata": {},
   "outputs": [],
   "source": [
    "class Solution(object):  # 依據課堂的規定 , 格式後來才補上的  \n",
    "    \n",
    "    def heap(self,data) :   \n",
    "        \n",
    "        data = [0] + data\n",
    "          \n",
    "        size = len(data)\n",
    "        print('原始陣列 :' , data[1:] , end = '')\n",
    "        #先進行堆積還沒有排序\n",
    "\n",
    "        for i in range(int(size/2) , 0 , -1):\n",
    "            Solution().add_heap(data , i , size-1) #引入的時候size的意義會變成index 所以要-1 因為data[size] = None\n",
    "        \n",
    "        print()\n",
    "        print(\"堆積內容 :\", data[1:] , '\\n')\n",
    "    \n",
    "        # 開始堆積排序 樹建立起來 每次都取最上面的值->最小值 然後再重新建立新的樹\n",
    "    \n",
    "        ###本來想直接把第一個直取出 讓剩下的tree重新排列  但是直接取掉第一個根部會破壞掉整個樹的結構\n",
    "        for n in range(size-2,0,-1): # -2是為了讓data[n+1]的index不超出範圍\n",
    "            data[n+1] , data[1] = data[1] , data[n+1] # 不知道這算不算是正規的作法\n",
    "        \n",
    "            Solution().add_heap(data,1,n) # n就是每次遞減1的size  \n",
    "        \n",
    "        return print('排序結果: ' , data[-1:0:-1] , end= '' )\n",
    "    \n",
    "    def add_heap(self, data , i , size): #Tree由下而上堆積　Mini-heap \n",
    "        j = 2 * i\n",
    "        temp = data[i] # 暫時紀錄index i的樹根為temp　\n",
    "        tag = 0\n",
    "    \n",
    "        while (j <= size) and (tag == 0): #只要tag沒有完成　就再繼續往下比較&交換\n",
    "            if j < size: # 這裡容易出差錯　:　必須要多寫一個if 以免j+1的index out of range　\n",
    "                if data[j] > data[j+1] :#比較左右子節點的大小\n",
    "                    j += 1\n",
    "            if temp <= data[j]:   #父節點一律使用temp比較\n",
    "                tag = 1 #tag這一層完成排序\n",
    "        \n",
    "            elif temp > data[j]:\n",
    "                data[j//2] = data[j]\n",
    "                j = j * 2\n",
    "                #這部分是最難的注意\n",
    "        \n",
    "    \n",
    "        data[j//2] = temp #這個位置要再重新理解一遍  最後確定位置之後再放進來\n",
    "\n",
    "    \n",
    "    \n",
    "  "
   ]
  },
  {
   "cell_type": "code",
   "execution_count": 69,
   "metadata": {},
   "outputs": [],
   "source": [
    "data = [-3,-4,5,6,4,8,3,2,7,1,13,5,6,50,1,2,3,1,101] # 測試值 加入一些負值"
   ]
  },
  {
   "cell_type": "code",
   "execution_count": 67,
   "metadata": {},
   "outputs": [
    {
     "name": "stdout",
     "output_type": "stream",
     "text": [
      "原始陣列 : [-3, -4, 5, 6, 4, 8, 3, 2, 7, 1, 13, 5, 6, 50, 1, 2, 3, 1, 101]\n",
      "堆積內容 : [-4, -3, 1, 1, 1, 5, 3, 2, 6, 4, 13, 8, 6, 50, 5, 2, 3, 7, 101] \n",
      "\n",
      "排序結果:  [-4, -3, 1, 1, 1, 2, 2, 3, 3, 4, 5, 5, 6, 6, 7, 8, 13, 50, 101]"
     ]
    }
   ],
   "source": [
    "Solution().heap(data)"
   ]
  },
  {
   "cell_type": "code",
   "execution_count": null,
   "metadata": {},
   "outputs": [],
   "source": [
    "#參考資料 1.圖說演算法 , 博碩出版 2.資料結構使用python 蔡明志\n",
    "\n",
    "#閱讀資料僅止於了解Sorting本身的原理為何 , 實際的程式碼內容撰寫為原創\n",
    "#可以參考原書籍 兩者的相似度極低"
   ]
  }
 ],
 "metadata": {
  "kernelspec": {
   "display_name": "Python 3",
   "language": "python",
   "name": "python3"
  },
  "language_info": {
   "codemirror_mode": {
    "name": "ipython",
    "version": 3
   },
   "file_extension": ".py",
   "mimetype": "text/x-python",
   "name": "python",
   "nbconvert_exporter": "python",
   "pygments_lexer": "ipython3",
   "version": "3.6.5"
  }
 },
 "nbformat": 4,
 "nbformat_minor": 2
}
