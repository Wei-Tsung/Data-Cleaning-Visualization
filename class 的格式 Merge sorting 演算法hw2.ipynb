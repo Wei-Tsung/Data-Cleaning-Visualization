{
 "cells": [
  {
   "cell_type": "code",
   "execution_count": 3,
   "metadata": {},
   "outputs": [],
   "source": [
    "class Solution(object):\n",
    "\n",
    "    def merge_sort(self,arr):\n",
    "    \n",
    "    \n",
    "        length = len(arr)\n",
    "        \n",
    "        if length > 1:\n",
    "            midpoint = int(length/2)\n",
    "            left = arr[:midpoint]\n",
    "            right = arr[midpoint:]\n",
    "        \n",
    "            Solution().merge_sort(left) # 左右再一直不斷地遞迴切割 直到length = 1\n",
    "            Solution().merge_sort(right) #\n",
    "        \n",
    "\n",
    "        #arr是已經遞迴切割到最底層的arr子集合 , 跟原始引入的arr母集合並不相同\n",
    "    \n",
    "        if length <= 1:  # 設定中止條件  若array <= 1 不必執行其他過程直接回傳\n",
    "            return arr\n",
    "   \n",
    "  \n",
    "        n1 = 0 # left_section array的index\n",
    "        n2 = 0 # right_section array 的index\n",
    "        sort = 0 # 重新排序放入array時的index\n",
    "        over = 0 # 表示左半邊或右半邊的array已經有一邊已經全數比較並排序完的信號\n",
    "    \n",
    "        #把所有的element依據大小排進array\n",
    "        while ( n1 < len(left) ) | (n2 < len(right) ):\n",
    "        \n",
    "        \n",
    "            if over == 1 : # 信號表示其中一邊的array已經重新排序完成\n",
    "                if n2 == len(right):\n",
    "               \n",
    "                    arr[sort:] = left[n1:] \n",
    "                    n1 = len(left)\n",
    "                else :\n",
    "                 \n",
    "                    arr[sort:] = right[n2:]\n",
    "                    n2 = len(right)\n",
    "        \n",
    "            if over == 0 : # 左右半邊的array都尚未重新排序\n",
    "                if  left[n1] <= right[n2] :\n",
    "                    arr[sort] = left[n1]\n",
    "                    n1 += 1\n",
    "                 \n",
    "                elif left[n1] > right[n2]:\n",
    "                    arr[sort] = right[n2]\n",
    "                    n2 += 1\n",
    "                \n",
    "                if (len(left) == n1) | (len(right) == n2) :\n",
    "                    over = 1\n",
    "            \n",
    "                sort += 1\n",
    "    \n",
    "        return print('Merging Processes : ' , arr) #將排序過程輸出　,  debug會比較清楚容易   "
   ]
  },
  {
   "cell_type": "code",
   "execution_count": 4,
   "metadata": {},
   "outputs": [
    {
     "name": "stdout",
     "output_type": "stream",
     "text": [
      "Merging Processes :  [2, 11]\n",
      "Merging Processes :  [4, 5]\n",
      "Merging Processes :  [2, 4, 5, 11]\n",
      "Merging Processes :  [6, 7]\n",
      "Merging Processes :  [1, 23]\n",
      "Merging Processes :  [1, 8, 23]\n",
      "Merging Processes :  [1, 6, 7, 8, 23]\n",
      "Merging Processes :  [1, 2, 4, 5, 6, 7, 8, 11, 23]\n"
     ]
    }
   ],
   "source": [
    "original_arr = [11,2,5,4,7,6,8,1,23] # original_array 當引入 merge sort \n",
    "# 在每一次遞迴當中arr所表示的array皆不是相同的  而是original array的子集合\n",
    "\n",
    "Solution().merge_sort(original_arr)"
   ]
  },
  {
   "cell_type": "code",
   "execution_count": null,
   "metadata": {},
   "outputs": [],
   "source": [
    "#參考過StackFlow討論版   了解原理 \n",
    "\n",
    "#https://stackoverflow.com/questions/18761766/mergesort-with-python \n",
    "\n",
    "#程式碼內容完全原創   "
   ]
  },
  {
   "cell_type": "code",
   "execution_count": null,
   "metadata": {},
   "outputs": [],
   "source": [
    "#https://stackoverflow.com/questions/18761766/mergesort-with-python \n",
    "#曾參考過StackFlow討論版  僅止於了解Merge sort背後的原理 \n",
    "#參考書 蔡明志 : 資料結構 : 使用Python\n",
    "\n",
    "#程式碼內容完全原創 相似度極低   \n"
   ]
  }
 ],
 "metadata": {
  "kernelspec": {
   "display_name": "Python 3",
   "language": "python",
   "name": "python3"
  },
  "language_info": {
   "codemirror_mode": {
    "name": "ipython",
    "version": 3
   },
   "file_extension": ".py",
   "mimetype": "text/x-python",
   "name": "python",
   "nbconvert_exporter": "python",
   "pygments_lexer": "ipython3",
   "version": "3.6.5"
  }
 },
 "nbformat": 4,
 "nbformat_minor": 2
}
